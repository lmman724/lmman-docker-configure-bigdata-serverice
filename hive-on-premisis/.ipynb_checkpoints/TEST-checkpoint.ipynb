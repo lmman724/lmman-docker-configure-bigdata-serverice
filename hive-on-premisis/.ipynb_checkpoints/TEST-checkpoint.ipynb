{
 "cells": [
  {
   "cell_type": "code",
   "execution_count": null,
   "id": "5acc57b7",
   "metadata": {},
   "outputs": [
    {
     "name": "stdout",
     "output_type": "stream",
     "text": [
      "Downloaded yellow_tripdata_2022-01.parquet\n",
      "Downloaded yellow_tripdata_2022-02.parquet\n",
      "Downloaded yellow_tripdata_2022-03.parquet\n",
      "Downloaded yellow_tripdata_2022-04.parquet\n",
      "Downloaded yellow_tripdata_2022-05.parquet\n"
     ]
    }
   ],
   "source": [
    "import requests\n",
    "\n",
    "# Define the base URL\n",
    "base_url = \"https://d37ci6vzurychx.cloudfront.net/trip-data/\"\n",
    "\n",
    "# Loop over the months from January to December\n",
    "for month in range(1, 13):\n",
    "    # Format the month to have a leading zero if necessary\n",
    "    month_str = str(month).zfill(2)\n",
    "    # Construct the URL for the parquet file\n",
    "    url = base_url + f\"yellow_tripdata_2022-{month_str}.parquet\"\n",
    "    # Define the file name to save the parquet file locally\n",
    "    file_name = f\"yellow_tripdata_2022-{month_str}.parquet\"\n",
    "    # Send a request to download the parquet file\n",
    "    response = requests.get(url)\n",
    "    # Check if the request was successful\n",
    "    if response.status_code == 200:\n",
    "        # Save the parquet file locally\n",
    "        with open(file_name, \"wb\") as f:\n",
    "            f.write(response.content)\n",
    "        print(f\"Downloaded {file_name}\")\n",
    "    else:\n",
    "        print(f\"Failed to download {file_name}\")\n"
   ]
  },
  {
   "cell_type": "code",
   "execution_count": 4,
   "id": "cd0318ad",
   "metadata": {},
   "outputs": [],
   "source": []
  },
  {
   "cell_type": "code",
   "execution_count": null,
   "id": "8b23b4dd",
   "metadata": {},
   "outputs": [],
   "source": []
  }
 ],
 "metadata": {
  "kernelspec": {
   "display_name": "Python 3 (ipykernel)",
   "language": "python",
   "name": "python3"
  },
  "language_info": {
   "codemirror_mode": {
    "name": "ipython",
    "version": 3
   },
   "file_extension": ".py",
   "mimetype": "text/x-python",
   "name": "python",
   "nbconvert_exporter": "python",
   "pygments_lexer": "ipython3",
   "version": "3.10.6"
  }
 },
 "nbformat": 4,
 "nbformat_minor": 5
}
